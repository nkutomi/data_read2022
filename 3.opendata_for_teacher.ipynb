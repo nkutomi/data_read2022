{
 "cells": [
  {
   "cell_type": "code",
   "execution_count": null,
   "id": "4019aa27",
   "metadata": {},
   "outputs": [],
   "source": [
    "#必要なモジュールのインポート\n",
    "%matplotlib inline\n",
    "import numpy as np\n",
    "import pandas as pd\n",
    "import matplotlib.pyplot as plt\n",
    "import japanize_matplotlib\n",
    "import json, requests"
   ]
  },
  {
   "cell_type": "markdown",
   "id": "b2de0c17",
   "metadata": {},
   "source": [
    "# 外部サイトのデータ"
   ]
  },
  {
   "cell_type": "markdown",
   "id": "6e578015",
   "metadata": {},
   "source": [
    "## OECDのデータ"
   ]
  },
  {
   "cell_type": "code",
   "execution_count": null,
   "id": "1dbd894d",
   "metadata": {},
   "outputs": [],
   "source": [
    "# とりあえず、これが実行できれば...\n",
    "data = pd.read_csv(\"https://stats.oecd.org/sdmx-json/data/DP_LIVE/.STUDPERTEACHER.../OECD?contentType=csv&detail=code&separator=comma&csv-lang=en\")"
   ]
  },
  {
   "cell_type": "code",
   "execution_count": null,
   "id": "ab95a01c",
   "metadata": {},
   "outputs": [],
   "source": [
    "# 手順書に書いた手段を実行してもダメな場合はこれを実行、sslをverifyしないという、あまりよくないやり方ですが...\n",
    "import ssl\n",
    "ssl._create_default_https_context = ssl._create_unverified_context\n",
    "\n",
    "# 仮に、これをやってもダメな時は...難しい状況と思います..."
   ]
  },
  {
   "cell_type": "markdown",
   "id": "dda185b0",
   "metadata": {},
   "source": [
    "## 簡易的な、OECD DataからURLのコピペで読み込む方法"
   ]
  },
  {
   "cell_type": "code",
   "execution_count": null,
   "id": "b207e73f",
   "metadata": {},
   "outputs": [],
   "source": [
    "# https://data.oecd.org/teachers/teaching-hours.htm\n",
    "# からdownload > Full indicator data(.csv)のリンクをクリックした場合 \n",
    "data = pd.read_csv(\"https://stats.oecd.org/sdmx-json/data/DP_LIVE/.TEACHINGHR.../OECD?contentType=csv&detail=code&separator=comma&csv-lang=en\")"
   ]
  },
  {
   "cell_type": "code",
   "execution_count": null,
   "id": "ee7be48d",
   "metadata": {},
   "outputs": [],
   "source": [
    "data"
   ]
  },
  {
   "cell_type": "code",
   "execution_count": null,
   "id": "df93ff75",
   "metadata": {},
   "outputs": [],
   "source": []
  },
  {
   "cell_type": "markdown",
   "id": "982b74a7",
   "metadata": {},
   "source": [
    "## OECDのAPIを使う方法（詳細は省略）\n",
    "https://data.oecd.org/api/sdmx-json-documentation/"
   ]
  },
  {
   "cell_type": "code",
   "execution_count": null,
   "id": "d1c826a1",
   "metadata": {},
   "outputs": [],
   "source": [
    "# APIの仕様に書いてあるURL\n",
    "w = requests.get(\"http://stats.oecd.org/sdmx-json/data/QNA/AUS+AUT.GDP+B1_GE.CUR+VOBARSA.Q/all?startTime=2009-Q2&endTime=2011-Q4\")"
   ]
  },
  {
   "cell_type": "code",
   "execution_count": null,
   "id": "e88697cd",
   "metadata": {},
   "outputs": [],
   "source": [
    "# これを分解すると\n",
    "name = 'QNA'\n",
    "dimensions = (('AUS','AUT'),\n",
    "              ('GDP','B1_GE'),\n",
    "              ('CUR','VOBARSA'),\n",
    "              ('Q')\n",
    "             )\n",
    "append = \"startTime=2009-Q2&endTime=2011-Q4\"\n",
    "\n",
    "args = ['+'.join(d) for d in dimensions]\n",
    "strs = '.'.join(args)\n",
    "\n",
    "request_URL = 'http://stats.oecd.org/sdmx-json/data/'+name+'/'+strs+'/all?'+append"
   ]
  },
  {
   "cell_type": "code",
   "execution_count": null,
   "id": "64ffd94a",
   "metadata": {},
   "outputs": [],
   "source": [
    "w = requests.get(request_URL)"
   ]
  },
  {
   "cell_type": "code",
   "execution_count": null,
   "id": "d7353ef3",
   "metadata": {},
   "outputs": [],
   "source": [
    "data = json.loads(ww.text)"
   ]
  },
  {
   "cell_type": "code",
   "execution_count": null,
   "id": "60a01c58",
   "metadata": {},
   "outputs": [],
   "source": [
    "# OECDのAPIを使うプログラムやパッケージは紹介されていますが、実質上と同じことをやっています。\n"
   ]
  },
  {
   "cell_type": "markdown",
   "id": "aa8b692a",
   "metadata": {},
   "source": [
    "## e-Statのデータ"
   ]
  },
  {
   "cell_type": "code",
   "execution_count": null,
   "id": "0d3c2290",
   "metadata": {},
   "outputs": [],
   "source": [
    "##ここを実行する前に、このdata_read2022のフォルダの一階層上に、eStats.txtというファイルを作り、e-Statから得たappidをコピペした、1行だけのファイルを保存してください。\n",
    "estatsid = open(\"../eStats.txt\").read()"
   ]
  },
  {
   "cell_type": "code",
   "execution_count": null,
   "id": "f467a205",
   "metadata": {},
   "outputs": [],
   "source": [
    "##json\n",
    "URL = \"http://api.e-stat.go.jp/rest/3.0/app/json/getStatsData?appId=\"\n",
    "URL+=estatsid\n",
    "URL+=\"&lang=J&statsDataId=0000091675&metaGetFlg=Y&cntGetFlg=N&explanationGetFlg=Y&annotationGetFlg=Y&sectionHeaderFlg=1&replaceSpChars=0\"\n",
    "ww = requests.get(URL)"
   ]
  },
  {
   "cell_type": "code",
   "execution_count": null,
   "id": "3deaeb2b",
   "metadata": {},
   "outputs": [],
   "source": [
    "aaa = json.loads(ww.text)"
   ]
  },
  {
   "cell_type": "code",
   "execution_count": null,
   "id": "39f85b59",
   "metadata": {},
   "outputs": [],
   "source": [
    "aaa"
   ]
  },
  {
   "cell_type": "code",
   "execution_count": null,
   "id": "5d0cd1b9",
   "metadata": {},
   "outputs": [],
   "source": [
    "aaa['GET_STATS_DATA']['RESULT']['ERROR_MSG']"
   ]
  },
  {
   "cell_type": "code",
   "execution_count": null,
   "id": "afb25177",
   "metadata": {},
   "outputs": [],
   "source": [
    "aaa['GET_STATS_DATA']['STATISTICAL_DATA'].keys()"
   ]
  },
  {
   "cell_type": "code",
   "execution_count": null,
   "id": "cfd0224a",
   "metadata": {},
   "outputs": [],
   "source": []
  },
  {
   "cell_type": "code",
   "execution_count": null,
   "id": "50ec69ba",
   "metadata": {},
   "outputs": [],
   "source": [
    "##Excelのマークを押してダウンロードできるとき、そのマークのURLを取得しておく。仮にそれが\n",
    "##https://www.e-stat.go.jp/stat-search/file-download?statInfId=000032126092&fileKind=0\n",
    "##であったとしたら、そこに後はappid=(ID)を追加して\n",
    "##https://www.e-stat.go.jp/stat-search/file-download?statInfId=000032126092&fileKind=0&appid=(ID)\n",
    "##のようにするだけ。たとえば、以下。\n",
    "ddf = pd.read_excel(\"https://www.e-stat.go.jp/stat-search/file-download?statInfId=000032126092&fileKind=0&appId=\"+estatsid)"
   ]
  },
  {
   "cell_type": "code",
   "execution_count": null,
   "id": "522feed4",
   "metadata": {},
   "outputs": [],
   "source": [
    "ddf"
   ]
  },
  {
   "cell_type": "markdown",
   "id": "67da854f",
   "metadata": {},
   "source": [
    "# 簡便にpandas_estatというパッケージを使う"
   ]
  },
  {
   "cell_type": "code",
   "execution_count": null,
   "id": "eb7195fa",
   "metadata": {},
   "outputs": [],
   "source": [
    "# packageを使う\n",
    "import pandas_estat\n",
    "\n",
    "pandas_estat.set_appid(estatsid)###id\n",
    "\n",
    "## 統計リストを取得\n",
    "statslist = pandas_estat.read_statslist(\"00200533\")  "
   ]
  },
  {
   "cell_type": "code",
   "execution_count": null,
   "id": "2c758ab8",
   "metadata": {},
   "outputs": [],
   "source": [
    "display(statslist)"
   ]
  },
  {
   "cell_type": "code",
   "execution_count": null,
   "id": "542194cf",
   "metadata": {},
   "outputs": [],
   "source": [
    "## 統計データを取得\n",
    "dataframe = pandas_estat.read_statsdata(\"0000092584\")  "
   ]
  },
  {
   "cell_type": "code",
   "execution_count": null,
   "id": "1da5452a",
   "metadata": {},
   "outputs": [],
   "source": [
    "display(dataframe)"
   ]
  },
  {
   "cell_type": "code",
   "execution_count": null,
   "id": "7802e430",
   "metadata": {},
   "outputs": [],
   "source": []
  }
 ],
 "metadata": {
  "kernelspec": {
   "display_name": "Python 3 (ipykernel)",
   "language": "python",
   "name": "python3"
  },
  "language_info": {
   "codemirror_mode": {
    "name": "ipython",
    "version": 3
   },
   "file_extension": ".py",
   "mimetype": "text/x-python",
   "name": "python",
   "nbconvert_exporter": "python",
   "pygments_lexer": "ipython3",
   "version": "3.9.10"
  }
 },
 "nbformat": 4,
 "nbformat_minor": 5
}
