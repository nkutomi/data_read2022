{
 "cells": [
  {
   "cell_type": "code",
   "execution_count": null,
   "id": "d933f1e3",
   "metadata": {},
   "outputs": [],
   "source": [
    "%load https://scikit-learn.org/stable/_downloads/2da0534ab0e0c8241033bcc2d912e419/plot_classifier_comparison.py "
   ]
  },
  {
   "cell_type": "code",
   "execution_count": null,
   "id": "6ad25ddc",
   "metadata": {},
   "outputs": [],
   "source": []
  }
 ],
 "metadata": {
  "kernelspec": {
   "display_name": "Python 3 (ipykernel)",
   "language": "python",
   "name": "python3"
  },
  "language_info": {
   "codemirror_mode": {
    "name": "ipython",
    "version": 3
   },
   "file_extension": ".py",
   "mimetype": "text/x-python",
   "name": "python",
   "nbconvert_exporter": "python",
   "pygments_lexer": "ipython3",
   "version": "3.9.10"
  }
 },
 "nbformat": 4,
 "nbformat_minor": 5
}
