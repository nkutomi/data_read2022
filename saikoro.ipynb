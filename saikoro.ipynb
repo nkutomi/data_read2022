{
 "cells": [
  {
   "cell_type": "code",
   "execution_count": 2,
   "id": "ea13dcc9",
   "metadata": {},
   "outputs": [
    {
     "name": "stdout",
     "output_type": "stream",
     "text": [
      "0.1007038575098147\n",
      "1\n"
     ]
    }
   ],
   "source": [
    "import random\n",
    "\n",
    "r = random.random()\n",
    "print(r)\n",
    "i = int(r*6+1)\n",
    "print(i)"
   ]
  },
  {
   "cell_type": "code",
   "execution_count": null,
   "id": "30ae277c",
   "metadata": {},
   "outputs": [],
   "source": [
    "def saikoro():\n",
    "    r = random.random()\n",
    "    print(r)\n",
    "    i = int(r*6+1)\n",
    "    print(i)"
   ]
  },
  {
   "cell_type": "code",
   "execution_count": 3,
   "id": "5e4be2cf",
   "metadata": {},
   "outputs": [],
   "source": [
    "def saikoro():\n",
    "    r = random.random()\n",
    "    i=int(r*6+1)\n",
    "    print(i)"
   ]
  },
  {
   "cell_type": "code",
   "execution_count": 5,
   "id": "d2deb5be",
   "metadata": {},
   "outputs": [
    {
     "name": "stdout",
     "output_type": "stream",
     "text": [
      "5\n"
     ]
    }
   ],
   "source": [
    "saikoro()"
   ]
  },
  {
   "cell_type": "code",
   "execution_count": 6,
   "id": "6f5c3257",
   "metadata": {
    "scrolled": true
   },
   "outputs": [
    {
     "name": "stdout",
     "output_type": "stream",
     "text": [
      "6\n",
      "4\n",
      "1\n",
      "1\n",
      "6\n",
      "1\n",
      "2\n",
      "5\n",
      "1\n",
      "3\n",
      "2\n",
      "4\n",
      "4\n",
      "5\n",
      "3\n",
      "1\n",
      "1\n",
      "6\n",
      "6\n",
      "4\n",
      "5\n",
      "4\n",
      "1\n",
      "3\n",
      "4\n",
      "5\n",
      "6\n",
      "4\n",
      "3\n",
      "4\n",
      "5\n",
      "1\n",
      "6\n",
      "2\n",
      "6\n",
      "4\n",
      "6\n",
      "5\n",
      "4\n",
      "3\n",
      "5\n",
      "6\n",
      "2\n",
      "2\n",
      "2\n",
      "5\n",
      "1\n",
      "5\n",
      "6\n",
      "6\n",
      "1\n",
      "4\n",
      "2\n",
      "4\n",
      "3\n",
      "3\n",
      "6\n",
      "1\n",
      "5\n",
      "3\n",
      "1\n",
      "3\n",
      "1\n",
      "1\n",
      "5\n",
      "1\n",
      "1\n",
      "5\n",
      "5\n",
      "6\n",
      "2\n",
      "4\n",
      "1\n",
      "5\n",
      "2\n",
      "2\n",
      "2\n",
      "3\n",
      "4\n",
      "3\n",
      "5\n",
      "6\n",
      "4\n",
      "1\n",
      "2\n",
      "2\n",
      "2\n",
      "2\n",
      "3\n",
      "2\n",
      "5\n",
      "3\n",
      "6\n",
      "4\n",
      "1\n",
      "1\n",
      "4\n",
      "4\n",
      "2\n",
      "5\n"
     ]
    }
   ],
   "source": [
    "for i in range(100): saikoro()"
   ]
  },
  {
   "cell_type": "code",
   "execution_count": 10,
   "id": "cd19bd20",
   "metadata": {},
   "outputs": [
    {
     "name": "stdout",
     "output_type": "stream",
     "text": [
      "{1: 16639, 2: 16673, 3: 16688, 4: 16684, 5: 16797, 6: 16519}\n"
     ]
    }
   ],
   "source": [
    "kaisuu = {1:0, 2:0, 3:0, 4:0, 5:0, 6:0}\n",
    "\n",
    "for i in range(100000):\n",
    "    r = random.random()\n",
    "    i=int(r*6+1)\n",
    "    kaisuu[i] += 1 # kaisuu[i] = kaisuu[i] + 1 と同じ\n",
    "\n",
    "print(kaisuu)"
   ]
  },
  {
   "cell_type": "code",
   "execution_count": 11,
   "id": "1f03273f",
   "metadata": {},
   "outputs": [
    {
     "name": "stdout",
     "output_type": "stream",
     "text": [
      "python-izm\n"
     ]
    }
   ],
   "source": [
    "print('python-izm')"
   ]
  },
  {
   "cell_type": "code",
   "execution_count": 12,
   "id": "d5584fae",
   "metadata": {},
   "outputs": [
    {
     "name": "stdout",
     "output_type": "stream",
     "text": [
      "python-izm\n"
     ]
    }
   ],
   "source": [
    "print(\"python-izm\")"
   ]
  },
  {
   "cell_type": "code",
   "execution_count": 13,
   "id": "2cf113da",
   "metadata": {},
   "outputs": [
    {
     "name": "stdout",
     "output_type": "stream",
     "text": [
      "\n",
      "test_1\n",
      "test_2\n",
      "\n"
     ]
    }
   ],
   "source": [
    "test_str =  \"\"\"\n",
    "test_1\n",
    "test_2\n",
    "\"\"\"\n",
    "print(test_str)"
   ]
  },
  {
   "cell_type": "code",
   "execution_count": 15,
   "id": "bffa07e3",
   "metadata": {},
   "outputs": [
    {
     "name": "stdout",
     "output_type": "stream",
     "text": [
      "python-izm\n"
     ]
    }
   ],
   "source": [
    "test_str = 'python'\n",
    "test_str += '-'\n",
    "test_str = test_str + 'izm'\n",
    " \n",
    "print(test_str)"
   ]
  },
  {
   "cell_type": "code",
   "execution_count": 17,
   "id": "cfb8d783",
   "metadata": {},
   "outputs": [
    {
     "name": "stdout",
     "output_type": "stream",
     "text": [
      "['python', '-', 'izm', '.', 'com']\n",
      "--------------------------------\n",
      "python\n",
      "-\n",
      "izm\n",
      ".\n",
      "com\n"
     ]
    }
   ],
   "source": [
    "test_list_1 = ['python', '-', 'izm', '.', 'com']\n",
    "print(test_list_1)\n",
    "\n",
    "print('--------------------------------')\n",
    " \n",
    "for i in test_list_1:\n",
    "    print(i)"
   ]
  },
  {
   "cell_type": "code",
   "execution_count": 18,
   "id": "69d46f08",
   "metadata": {},
   "outputs": [
    {
     "data": {
      "text/plain": [
       "'.'"
      ]
     },
     "execution_count": 18,
     "metadata": {},
     "output_type": "execute_result"
    }
   ],
   "source": [
    "test_list_1[3]"
   ]
  },
  {
   "cell_type": "code",
   "execution_count": 20,
   "id": "2c6149c3",
   "metadata": {},
   "outputs": [
    {
     "name": "stdout",
     "output_type": "stream",
     "text": [
      "1 0\n",
      "2 0\n",
      "3 0\n",
      "4 0\n",
      "5 0\n",
      "6 0\n"
     ]
    }
   ],
   "source": [
    "kaisuu = {1:0, 2:0, 3:0, 4:0, 5:0, 6:0}\n",
    "\n",
    "for i in kaisuu:\n",
    "    print(i, kaisuu[i])"
   ]
  },
  {
   "cell_type": "code",
   "execution_count": 23,
   "id": "07672b51",
   "metadata": {},
   "outputs": [
    {
     "data": {
      "text/plain": [
       "(dict, list, int)"
      ]
     },
     "execution_count": 23,
     "metadata": {},
     "output_type": "execute_result"
    }
   ],
   "source": [
    "type(kaisuu), type(test_list_1), type(kaisuu[3])"
   ]
  },
  {
   "cell_type": "code",
   "execution_count": 24,
   "id": "0b61e106",
   "metadata": {},
   "outputs": [
    {
     "data": {
      "text/plain": [
       "3"
      ]
     },
     "execution_count": 24,
     "metadata": {},
     "output_type": "execute_result"
    }
   ],
   "source": [
    "3"
   ]
  },
  {
   "cell_type": "code",
   "execution_count": 25,
   "id": "062469a5",
   "metadata": {},
   "outputs": [
    {
     "data": {
      "text/plain": [
       "'3'"
      ]
     },
     "execution_count": 25,
     "metadata": {},
     "output_type": "execute_result"
    }
   ],
   "source": [
    "'3'"
   ]
  },
  {
   "cell_type": "code",
   "execution_count": 26,
   "id": "009bce17",
   "metadata": {},
   "outputs": [
    {
     "data": {
      "text/plain": [
       "False"
      ]
     },
     "execution_count": 26,
     "metadata": {},
     "output_type": "execute_result"
    }
   ],
   "source": [
    "3 == '3'"
   ]
  },
  {
   "cell_type": "code",
   "execution_count": null,
   "id": "88367bda",
   "metadata": {},
   "outputs": [],
   "source": []
  }
 ],
 "metadata": {
  "kernelspec": {
   "display_name": "Python 3 (ipykernel)",
   "language": "python",
   "name": "python3"
  },
  "language_info": {
   "codemirror_mode": {
    "name": "ipython",
    "version": 3
   },
   "file_extension": ".py",
   "mimetype": "text/x-python",
   "name": "python",
   "nbconvert_exporter": "python",
   "pygments_lexer": "ipython3",
   "version": "3.9.10"
  }
 },
 "nbformat": 4,
 "nbformat_minor": 5
}
