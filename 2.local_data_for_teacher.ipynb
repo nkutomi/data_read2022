{
 "cells": [
  {
   "cell_type": "code",
   "execution_count": null,
   "id": "4019aa27",
   "metadata": {},
   "outputs": [],
   "source": [
    "import pandas as pd\n",
    "import json, requests"
   ]
  },
  {
   "cell_type": "markdown",
   "id": "e9a845a0",
   "metadata": {},
   "source": [
    "# ローカルPCのデータ"
   ]
  },
  {
   "cell_type": "markdown",
   "id": "797a133e",
   "metadata": {},
   "source": [
    "## 心理学実験データの例（csvやExcel、2次元状）"
   ]
  },
  {
   "cell_type": "code",
   "execution_count": null,
   "id": "e50074a6",
   "metadata": {},
   "outputs": [],
   "source": [
    "# 読み込み\n",
    "psy = pd.read_csv(\"data/psy_data.csv\",index_col=0)\n",
    "\n",
    "#なお、MAAS,DDFSは心理尺度です。\n",
    "#Mindful Attention Awareness Scale（日本語版、藤野・梶村・野村2015、日本パーソナリティ心理学会）\n",
    "#Daydream Frequency Scale（日本語版、梶村・野村2016、心理学研究）"
   ]
  },
  {
   "cell_type": "code",
   "execution_count": null,
   "id": "086a6c98",
   "metadata": {},
   "outputs": [],
   "source": [
    "display(psy)"
   ]
  },
  {
   "cell_type": "code",
   "execution_count": null,
   "id": "428c33fd",
   "metadata": {},
   "outputs": [],
   "source": [
    "psy.keys()"
   ]
  },
  {
   "cell_type": "code",
   "execution_count": null,
   "id": "d5d41b52",
   "metadata": {},
   "outputs": [],
   "source": [
    "psy.to_csv(\"new.csv\", index=False)"
   ]
  },
  {
   "cell_type": "code",
   "execution_count": null,
   "id": "f885f0fc",
   "metadata": {},
   "outputs": [],
   "source": [
    "psy___ = pd.read_csv(\"new.csv\")"
   ]
  },
  {
   "cell_type": "code",
   "execution_count": null,
   "id": "66af1345",
   "metadata": {},
   "outputs": [],
   "source": [
    "psy___"
   ]
  },
  {
   "cell_type": "code",
   "execution_count": null,
   "id": "21bd2d27",
   "metadata": {},
   "outputs": [],
   "source": [
    "#psy[[\"MAAS1\",\"MAAS2\"]]\n",
    "psy[\"MAAS1\"]+psy[\"MAAS2\"]"
   ]
  },
  {
   "cell_type": "code",
   "execution_count": null,
   "id": "edfff23f",
   "metadata": {},
   "outputs": [],
   "source": [
    "psy[[\"MAAS1\",\"MAAS2\"]]"
   ]
  },
  {
   "cell_type": "code",
   "execution_count": null,
   "id": "77c50ca6",
   "metadata": {},
   "outputs": [],
   "source": [
    "psy[[\"MAAS\"+str(k) for k in range(1,16)]].sum(axis=1)"
   ]
  },
  {
   "cell_type": "code",
   "execution_count": null,
   "id": "7c580623",
   "metadata": {},
   "outputs": [],
   "source": [
    "psy[[\"MAAS1\",\"MAAS2\",\"MAAS3\",\"MAAS4\",...,\"MAAS15\"]]"
   ]
  },
  {
   "cell_type": "code",
   "execution_count": null,
   "id": "25aeb41d",
   "metadata": {},
   "outputs": [],
   "source": [
    "for k in psy:\n",
    "    if \"MAAS\" in k: print(k)"
   ]
  },
  {
   "cell_type": "code",
   "execution_count": null,
   "id": "ea897fb9",
   "metadata": {},
   "outputs": [],
   "source": [
    "[k for k in psy if \"MAAS\" in k]"
   ]
  },
  {
   "cell_type": "code",
   "execution_count": null,
   "id": "84169a3a",
   "metadata": {},
   "outputs": [],
   "source": [
    "psy[[k for k in psy if \"MAAS\" in k]]"
   ]
  },
  {
   "cell_type": "code",
   "execution_count": null,
   "id": "4c0970c6",
   "metadata": {},
   "outputs": [],
   "source": [
    "psy[[k for k in psy if \"MAAS\" in k]].sum(axis=1)"
   ]
  },
  {
   "cell_type": "code",
   "execution_count": null,
   "id": "72f71221",
   "metadata": {},
   "outputs": [],
   "source": [
    "MAAS = psy[[k for k in psy if \"MAAS\" in k]].sum(axis=1)\n",
    "DDFS = psy[[k for k in psy if \"DDFS\" in k]].sum(axis=1)"
   ]
  },
  {
   "cell_type": "code",
   "execution_count": null,
   "id": "78c23559",
   "metadata": {},
   "outputs": [],
   "source": []
  },
  {
   "cell_type": "code",
   "execution_count": null,
   "id": "75656a80",
   "metadata": {},
   "outputs": [],
   "source": []
  },
  {
   "cell_type": "code",
   "execution_count": null,
   "id": "d2e1b21f",
   "metadata": {},
   "outputs": [],
   "source": []
  },
  {
   "cell_type": "code",
   "execution_count": null,
   "id": "36243eac",
   "metadata": {},
   "outputs": [],
   "source": []
  },
  {
   "cell_type": "code",
   "execution_count": null,
   "id": "f4ef68de",
   "metadata": {},
   "outputs": [],
   "source": []
  },
  {
   "cell_type": "code",
   "execution_count": null,
   "id": "86b62726",
   "metadata": {},
   "outputs": [],
   "source": [
    "#Excelでも読めます\n",
    "psy_ = pd.read_excel(\"data/psy_data.xlsx\", sheet_name=None)###シートを全部読み込む"
   ]
  },
  {
   "cell_type": "code",
   "execution_count": null,
   "id": "1541c708",
   "metadata": {},
   "outputs": [],
   "source": [
    "psy_"
   ]
  },
  {
   "cell_type": "code",
   "execution_count": null,
   "id": "18548e18",
   "metadata": {},
   "outputs": [],
   "source": [
    "###何も指定しないと、最初のシートだけを読む\n",
    "psy_ = pd.read_excel(\"data/psy_data.xlsx\")"
   ]
  },
  {
   "cell_type": "code",
   "execution_count": null,
   "id": "2c966644",
   "metadata": {},
   "outputs": [],
   "source": [
    "psy_"
   ]
  },
  {
   "cell_type": "markdown",
   "id": "57b38201",
   "metadata": {},
   "source": [
    "## 学習データの例（json、多次元状）"
   ]
  },
  {
   "cell_type": "code",
   "execution_count": null,
   "id": "f68d4117",
   "metadata": {},
   "outputs": [],
   "source": [
    "# 読み込み\n",
    "learn = json.load(open(\"data/learn.json\"))"
   ]
  },
  {
   "cell_type": "code",
   "execution_count": null,
   "id": "4ba46c33",
   "metadata": {},
   "outputs": [],
   "source": [
    "type(learn)"
   ]
  },
  {
   "cell_type": "code",
   "execution_count": null,
   "id": "8b5d47ac",
   "metadata": {},
   "outputs": [],
   "source": [
    "len(learn)"
   ]
  },
  {
   "cell_type": "code",
   "execution_count": null,
   "id": "6112fa71",
   "metadata": {},
   "outputs": [],
   "source": [
    "learn[1]"
   ]
  },
  {
   "cell_type": "code",
   "execution_count": null,
   "id": "6f85711b",
   "metadata": {},
   "outputs": [],
   "source": [
    "clients = [ll['client']['$oid'] for ll in learn]\n",
    "operation_name = [ll['statement']['operation_name'] for ll in learn]\n",
    "marker_colors = [ll['statement']['marker_color'] for ll in learn]\n",
    "contents_names = [ll['statement']['contents_name'] for ll in learn]"
   ]
  },
  {
   "cell_type": "code",
   "execution_count": null,
   "id": "5c346d35",
   "metadata": {},
   "outputs": [],
   "source": [
    "##どんな種類があるかを表示するだけ\n",
    "set(clients), set(operation_name), set(marker_colors), set(contents_names)"
   ]
  },
  {
   "cell_type": "code",
   "execution_count": null,
   "id": "1245e08a",
   "metadata": {},
   "outputs": [],
   "source": [
    "# 回数を数える\n",
    "for client_ in set(clients):\n",
    "    print(client_, clients.count(client_))"
   ]
  },
  {
   "cell_type": "code",
   "execution_count": null,
   "id": "aeb817ea",
   "metadata": {},
   "outputs": [],
   "source": [
    "# 回数を数えるプログラムにしてしまう\n",
    "def count_ii(lists):\n",
    "    for ii_ in set(lists):\n",
    "        print(ii_, lists.count(ii_))"
   ]
  },
  {
   "cell_type": "code",
   "execution_count": null,
   "id": "58a3300a",
   "metadata": {},
   "outputs": [],
   "source": [
    "count_ii(operation_name)"
   ]
  },
  {
   "cell_type": "code",
   "execution_count": null,
   "id": "389a8ddf",
   "metadata": {},
   "outputs": [],
   "source": []
  },
  {
   "cell_type": "markdown",
   "id": "cc51211a",
   "metadata": {},
   "source": [
    "# グラフ表示"
   ]
  },
  {
   "cell_type": "code",
   "execution_count": null,
   "id": "897e4c82",
   "metadata": {},
   "outputs": [],
   "source": [
    "#必要なモジュールのインポート\n",
    "%matplotlib inline\n",
    "import matplotlib.pyplot as plt\n",
    "import japanize_matplotlib"
   ]
  },
  {
   "cell_type": "code",
   "execution_count": null,
   "id": "07be8116",
   "metadata": {},
   "outputs": [],
   "source": [
    "# MAAS,DDFSを散布図にしてみる\n",
    "plt.scatter(MAAS,DDFS, s=15)\n",
    "plt.scatter(MAAS, psy[\"BIG5開放性\"], s=15, color=\"black\")\n",
    "plt.title(\"意味のない散布図\", fontsize=20)\n",
    "plt.show()"
   ]
  },
  {
   "cell_type": "code",
   "execution_count": null,
   "id": "d1e7dc78",
   "metadata": {},
   "outputs": [],
   "source": [
    "plt.hist(MAAS)"
   ]
  },
  {
   "cell_type": "code",
   "execution_count": null,
   "id": "ba9982bc",
   "metadata": {},
   "outputs": [],
   "source": []
  }
 ],
 "metadata": {
  "kernelspec": {
   "display_name": "Python 3 (ipykernel)",
   "language": "python",
   "name": "python3"
  },
  "language_info": {
   "codemirror_mode": {
    "name": "ipython",
    "version": 3
   },
   "file_extension": ".py",
   "mimetype": "text/x-python",
   "name": "python",
   "nbconvert_exporter": "python",
   "pygments_lexer": "ipython3",
   "version": "3.9.10"
  }
 },
 "nbformat": 4,
 "nbformat_minor": 5
}
